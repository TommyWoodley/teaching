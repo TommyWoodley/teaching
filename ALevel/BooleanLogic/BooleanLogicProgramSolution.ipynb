{
  "nbformat": 4,
  "nbformat_minor": 0,
  "metadata": {
    "colab": {
      "provenance": []
    },
    "kernelspec": {
      "name": "python3",
      "display_name": "Python 3"
    },
    "language_info": {
      "name": "python"
    }
  },
  "cells": [
    {
      "cell_type": "markdown",
      "source": [
        "# Boolean Algebra\n",
        "\n",
        "### Evaluate expressions - A\n",
        "Create a function evaluate(expression, a, b, c) that takes a boolean expression and the boolean values a, b, c and then returns the result of that evaluated expression.\n",
        "\n",
        "e.g. evaluate(\"A+B\", 1, 0, 0) = True\n",
        "\n",
        "HINT: Use a function called eval() to evaluate expressions. Sadly though !, & and + are NOT valid Python operators. Python would need \"not\", \"and\" \"or\". How could you convert the expression into a form that python could evaluate?"
      ],
      "metadata": {
        "id": "rYAhPZow3LJJ"
      }
    },
    {
      "cell_type": "code",
      "source": [
        "def evaluate(expression, a, b, c):\n",
        "  expression = expression.lower()\n",
        "  expression = expression.replace(\".\",\" and \")\n",
        "  expression = expression.replace(\"+\",\" or \")\n",
        "  expression = expression.replace(\"!\",\" not \")\n",
        "  expression = expression.replace(\"0\",\"False\")\n",
        "  expression = expression.replace(\"1\",\"True\")\n",
        "\n",
        "  return eval(expression)\n"
      ],
      "metadata": {
        "id": "BzcfVk7tBewt"
      },
      "execution_count": null,
      "outputs": []
    },
    {
      "cell_type": "markdown",
      "source": [
        "## Truth Tables - B\n",
        "It would be useful to be able to generate a truth table from an expression. Create a function generate_truth_table(expression) that given a boolean expression prints out the truth table in a nice format. You can choose however you want to display it but one suggestion is:\n",
        "Boolean Expression:\n",
        "X = A|B\n",
        "\"\"\"\n",
        "\n",
        "| A | B | C || Q |\n",
        "\n",
        "| 0 | 0 | 0 || 0 |\n",
        "\n",
        "| 0 | 0 | 1 || 0 |\n",
        "\n",
        "| 0 | 1 | 0 || 1 |\n",
        "\n",
        "| 0 | 1 | 1 || 1 |\n",
        "\n",
        "| 1 | 0 | 0 || 1 |\n",
        "\n",
        "| 1 | 0 | 1 || 1 |\n",
        "\n",
        "| 1 | 1 | 0 || 1 |\n",
        "\n",
        "| 1 | 1 | 1 || 1 |\n",
        "\n",
        "Hint: Use your evaluate function to create an output for each of the possible options. How can you try out every option in turn and print it?"
      ],
      "metadata": {
        "id": "tIfBLlVp4Wi9"
      }
    },
    {
      "cell_type": "code",
      "source": [
        "def generate_truth_table(expression):\n",
        "  print(\"Boolean Expression:\")\n",
        "  print(\"X = \" + expression.upper())\n",
        "  expression = expression.lower()\n",
        "        \n",
        "  print(\"------------------\")\n",
        "  print(\"| A | B | C || Q |\")\n",
        "  print(\"------------------\")\n",
        "  print(\"------------------\")\n",
        "  \n",
        "  for a in range(0,2):\n",
        "    for b in range(0,2):\n",
        "      for c in range(0,2):\n",
        "        q = evaluate(expression, a, b, c)\n",
        "        print(\"| \" + str(a) + \" | \" + str(b) + \" | \" + str(c) + \" || \" + str(q) + \" |\" )\n",
        "        print(\"------------------\")\n",
        "    \n",
        "\n",
        "##############################################\n",
        "# INPUT THE BOOLEAN EXPRESSION FROM YOUR CIRCUIT \n",
        "# AND CHECK IF IT MATCHES WHAT YOU THOUGHT\n",
        "\n",
        "expression = \"A|B\"\n",
        "generate_truth_table(expression)"
      ],
      "metadata": {
        "colab": {
          "base_uri": "https://localhost:8080/"
        },
        "id": "tAnVICD96MbL",
        "outputId": "010fc4cc-91de-45de-afdc-5be57836d15c"
      },
      "execution_count": null,
      "outputs": [
        {
          "output_type": "stream",
          "name": "stdout",
          "text": [
            "Boolean Expression:\n",
            "X = A|B\n",
            "------------------\n",
            "| A | B | C || Q |\n",
            "------------------\n",
            "------------------\n",
            "| 0 | 0 | 0 || 0 |\n",
            "------------------\n",
            "| 0 | 0 | 1 || 0 |\n",
            "------------------\n",
            "| 0 | 1 | 0 || 1 |\n",
            "------------------\n",
            "| 0 | 1 | 1 || 1 |\n",
            "------------------\n",
            "| 1 | 0 | 0 || 1 |\n",
            "------------------\n",
            "| 1 | 0 | 1 || 1 |\n",
            "------------------\n",
            "| 1 | 1 | 0 || 1 |\n",
            "------------------\n",
            "| 1 | 1 | 1 || 1 |\n",
            "------------------\n"
          ]
        }
      ]
    },
    {
      "cell_type": "markdown",
      "source": [
        "## Equivalent Expressions - A\n",
        "\n",
        "We want to know whether two boolean expressions are equivalent.\n",
        "Two expressions are equivalent if they have the same truth tables. i.e. for every combination of A, B, C they evaluate to the same.\n",
        "\n",
        "Test with all of the identities that you know. You should be able to print a lot of True's."
      ],
      "metadata": {
        "id": "LIO8jQ6x5Rdu"
      }
    },
    {
      "cell_type": "code",
      "source": [
        "def equivalent(exp1, exp2):\n",
        "  for a in range(0,2):\n",
        "    for b in range(0,2):\n",
        "      for c in range(0,2):\n",
        "        if evaluate(exp1, a, b, c) != evaluate(exp2, a, b, c):\n",
        "          return False\n",
        "  return True\n",
        "\n",
        "# Quick Test:\n",
        "print(equivalent(\"A.0\", \"0\"))\n",
        "# Now write all the other identities that you know of to try and check:\n",
        "# You should write at least 6 other identities here:\n",
        "\n",
        "print(equivalent(\"A.1\", \"A\"))\n",
        "print(equivalent(\"A.A\", \"A\"))\n",
        "print(equivalent(\"A+0\", \"A\"))\n",
        "print(equivalent(\"A+1\", \"1\"))\n",
        "print(equivalent(\"A+A\", \"A\"))\n",
        "print(equivalent(\"!!A\", \"A\"))\n",
        "\n",
        "# Test with deMorgans law - write at least 1 rule here:\n",
        "print(equivalent(\"!(A+B)\", \"!A.!B\"))\n",
        "\n",
        "# Test with distribution laws - write at least 2 rules here:\n",
        "print(equivalent(\"A.(B+C)\", \"A.B+A.C\"))\n",
        "print(equivalent(\"A+(B.C)\", \"(A+B).(A+C)\"))"
      ],
      "metadata": {
        "colab": {
          "base_uri": "https://localhost:8080/"
        },
        "id": "9yjtQgYTCBog",
        "outputId": "25c5b452-ef08-4103-b73e-96f626f21e5a"
      },
      "execution_count": null,
      "outputs": [
        {
          "output_type": "stream",
          "name": "stdout",
          "text": [
            "True\n",
            "True\n",
            "True\n",
            "True\n",
            "True\n",
            "True\n",
            "True\n",
            "True\n",
            "True\n",
            "True\n"
          ]
        }
      ]
    },
    {
      "cell_type": "code",
      "source": [
        "g"
      ],
      "metadata": {
        "id": "NCwheDzBsT1c"
      },
      "execution_count": null,
      "outputs": []
    },
    {
      "cell_type": "markdown",
      "source": [
        "## Swap Algorithm\n",
        "\n",
        "We want a program that helps us to simplify boolean expressions. The program should go as follows:\n",
        "\n",
        "1. A user can enter a boolean expression.\n",
        "2. The truth table for that expression can be printed to the user.\n",
        "3. The user should be able to enter part of a simplification to the expression that they currently have.\n",
        "4. Your program should check that it's a valid simplification.\n",
        "5. If its valid then you should do the substitution, let the user know and then loop back to step 3.\n",
        "6. If it's invalid then you should let the user know and then go back to step 3.\n",
        "7. At step 3 the user should be able to enter \"done\" when they are finished simplifying the program.\n",
        "\n",
        "Example:\n",
        "> Enter an expression?\n",
        "\n",
        "A+B+1\n",
        "\n",
        "> Output of the truth table.\n",
        "> Enter a simplification rule?\n",
        "\n",
        "B+1=1\n",
        "\n",
        "> Nice, your new expression is A+1\n",
        "\n",
        "etc.\n"
      ],
      "metadata": {
        "id": "-8xwl1TT8Yv9"
      }
    },
    {
      "cell_type": "code",
      "source": [
        "def swapAlgorithm():\n",
        "  while True:\n",
        "    exp = input(\"Enter an expression or quit: \")\n",
        "    \n",
        "    generate_truth_table(exp)\n",
        "\n",
        "    while True:\n",
        "      print(\"Expression = \", exp)\n",
        "      rule = input(\"  Enter a simplifcation rule or done:\")\n",
        "      if rule == \"done\":\n",
        "        break\n",
        "      \n",
        "      rule_list = rule.split(\"=\")\n",
        "      if not equivalent(rule_list[0], rule_list[1]):\n",
        "        print(\"That's not a valid rule.\")\n",
        "        continue\n",
        "      exp = exp.replace(rule_list[0], rule_list[1])\n",
        "\n",
        "swapAlgorithm()"
      ],
      "metadata": {
        "colab": {
          "base_uri": "https://localhost:8080/"
        },
        "id": "mKDzp2dkGW3N",
        "outputId": "8d914af2-31a6-49df-e026-bf3ff57c13a5"
      },
      "execution_count": null,
      "outputs": [
        {
          "name": "stdout",
          "output_type": "stream",
          "text": [
            "Enter an expression or quit: J+!J+!K\n",
            "Boolean Expression:\n",
            "X = J+!J+!K\n",
            "------------------\n",
            "| J | K | L || X |\n",
            "------------------\n",
            "------------------\n",
            "j or  not j or  not k\n",
            "| 0 | 0 | 0 || True |\n",
            "------------------\n",
            "j or  not j or  not k\n",
            "| 0 | 0 | 1 || True |\n",
            "------------------\n",
            "j or  not j or  not k\n",
            "| 0 | 1 | 0 || True |\n",
            "------------------\n",
            "j or  not j or  not k\n",
            "| 0 | 1 | 1 || True |\n",
            "------------------\n",
            "j or  not j or  not k\n",
            "| 1 | 0 | 0 || 1 |\n",
            "------------------\n",
            "j or  not j or  not k\n",
            "| 1 | 0 | 1 || 1 |\n",
            "------------------\n",
            "j or  not j or  not k\n",
            "| 1 | 1 | 0 || 1 |\n",
            "------------------\n",
            "j or  not j or  not k\n",
            "| 1 | 1 | 1 || 1 |\n",
            "------------------\n",
            "Expression =  J+!J+!K\n",
            "  Enter a simplifcation rule or done:J+!J=1\n",
            "j or  not j\n",
            "True\n",
            "j or  not j\n",
            "True\n",
            "j or  not j\n",
            "True\n",
            "j or  not j\n",
            "True\n",
            "j or  not j\n",
            "True\n",
            "j or  not j\n",
            "True\n",
            "j or  not j\n",
            "True\n",
            "j or  not j\n",
            "True\n",
            "Expression =  1+!K\n",
            "  Enter a simplifcation rule or done:1+!K=K\n",
            "True or  not k\n",
            "k\n",
            "True or  not k\n",
            "k\n",
            "Not equal when j= 0  k= 0  l= 0  exp1= True  exp2= 0\n",
            "That's not a valid rule.\n",
            "Expression =  1+!K\n",
            "  Enter a simplifcation rule or done:1+!K=1\n",
            "True or  not k\n",
            "True\n",
            "True or  not k\n",
            "True\n",
            "True or  not k\n",
            "True\n",
            "True or  not k\n",
            "True\n",
            "True or  not k\n",
            "True\n",
            "True or  not k\n",
            "True\n",
            "True or  not k\n",
            "True\n",
            "True or  not k\n",
            "True\n",
            "Expression =  1\n",
            "  Enter a simplifcation rule or done:done\n",
            "Enter an expression or quit: quit\n"
          ]
        }
      ]
    },
    {
      "cell_type": "markdown",
      "source": [
        "## Extensions\n",
        "\n",
        "How could you improve your swap algorithm? Is there some subsitiutions which are always good? Could you do those automatically?\n",
        "\n",
        "Is there any way you could solve the whole program automatically? Feel free to look online and have a think."
      ],
      "metadata": {
        "id": "krWHSDlV6fJN"
      }
    }
  ]
}