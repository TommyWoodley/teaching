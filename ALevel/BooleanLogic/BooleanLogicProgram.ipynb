{
  "nbformat": 4,
  "nbformat_minor": 0,
  "metadata": {
    "colab": {
      "provenance": []
    },
    "kernelspec": {
      "name": "python3",
      "display_name": "Python 3"
    },
    "language_info": {
      "name": "python"
    }
  },
  "cells": [
    {
      "cell_type": "markdown",
      "source": [
        "# Boolean Algebra\n",
        "\n",
        "### Evaluate expressions - A\n",
        "Create a function evaluate(expression, a, b, c) that takes a boolean expression and the boolean values a, b, c and then returns the result of that evaluated expression.\n",
        "\n",
        "e.g. evaluate(\"A+B\", 1, 0, 0) = True\n",
        "\n",
        "HINT: Use a function called eval() to evaluate expressions. Sadly though !, & and + are NOT valid Python operators. Python would need \"not\", \"and\" \"or\". How could you convert the expression into a form that python could evaluate?"
      ],
      "metadata": {
        "id": "rYAhPZow3LJJ"
      }
    },
    {
      "cell_type": "code",
      "source": [
        "def evaluate(expression, a, b, c):\n",
        "  pass\n",
        "  # remove \"pass\" and INSERT YOUR CODE HERE\n"
      ],
      "metadata": {
        "id": "BzcfVk7tBewt"
      },
      "execution_count": null,
      "outputs": []
    },
    {
      "cell_type": "markdown",
      "source": [
        "## Truth Tables - B\n",
        "It would be useful to be able to generate a truth table from an expression. Create a function generate_truth_table(expression) that given a boolean expression prints out the truth table in a nice format. You can choose however you want to display it but one suggestion is:\n",
        "Boolean Expression:\n",
        "X = A|B\n",
        "\"\"\"\n",
        "\n",
        "| A | B | C || Q |\n",
        "\n",
        "| 0 | 0 | 0 || 0 |\n",
        "\n",
        "| 0 | 0 | 1 || 0 |\n",
        "\n",
        "| 0 | 1 | 0 || 1 |\n",
        "\n",
        "| 0 | 1 | 1 || 1 |\n",
        "\n",
        "| 1 | 0 | 0 || 1 |\n",
        "\n",
        "| 1 | 0 | 1 || 1 |\n",
        "\n",
        "| 1 | 1 | 0 || 1 |\n",
        "\n",
        "| 1 | 1 | 1 || 1 |\n",
        "\n",
        "Hint: Use your evaluate function to create an output for each of the possible options. How can you try out every option in turn and print it?"
      ],
      "metadata": {
        "id": "tIfBLlVp4Wi9"
      }
    },
    {
      "cell_type": "code",
      "source": [
        "def generate_truth_table(expression):\n",
        "  pass\n",
        "  # remove \"pass\" and INSERT YOUR CODE HERE\n",
        "    \n",
        "\n",
        "##############################################\n",
        "# INPUT THE BOOLEAN EXPRESSION FROM YOUR CIRCUIT \n",
        "# AND CHECK IF IT MATCHES WHAT YOU THOUGHT\n",
        "\n",
        "expression = \"\"\n",
        "generate_truth_table(expression)"
      ],
      "metadata": {
        "id": "tAnVICD96MbL"
      },
      "execution_count": null,
      "outputs": []
    },
    {
      "cell_type": "markdown",
      "source": [
        "## Equivalent Expressions - A\n",
        "\n",
        "We want to know whether two boolean expressions are equivalent.\n",
        "Two expressions are equivalent if they have the same truth tables. i.e. for every combination of A, B, C they evaluate to the same.\n",
        "\n",
        "Test with all of the identities that you know. You should be able to print a lot of True's."
      ],
      "metadata": {
        "id": "LIO8jQ6x5Rdu"
      }
    },
    {
      "cell_type": "code",
      "source": [
        "def equivalent(exp1, exp2):\n",
        "  pass\n",
        "  # remove \"pass\" and INSERT YOUR CODE HERE\n",
        "\n",
        "# Quick Test:\n",
        "print(equivalent(\"A.0\", \"0\"))\n",
        "# Now write all the other identities that you know of to try and check:\n",
        "# You should write at least 6 other identities here:\n",
        "# INSERT YOUR CODE HERE\n",
        "\n",
        "\n",
        "# Test with deMorgans law - write at least 1 rule here:\n",
        "# INSERT YOUR CODE HERE\n",
        "\n",
        "\n",
        "# Test with distribution laws - write at least 2 rules here:\n",
        "# INSERT YOUR CODE HERE\n",
        "\n"
      ],
      "metadata": {
        "colab": {
          "base_uri": "https://localhost:8080/"
        },
        "id": "9yjtQgYTCBog",
        "outputId": "a88c9b64-5e9b-426c-f970-cca7a75cb246"
      },
      "execution_count": null,
      "outputs": [
        {
          "output_type": "stream",
          "name": "stdout",
          "text": [
            "None\n"
          ]
        }
      ]
    },
    {
      "cell_type": "markdown",
      "source": [
        "## Swap Algorithm - B\n",
        "\n",
        "We want a program that helps us to simplify boolean expressions. The program should go as follows:\n",
        "\n",
        "1. A user can enter a boolean expression.\n",
        "2. The truth table for that expression can be printed to the user.\n",
        "3. The user should be able to enter part of a simplification to the expression that they currently have.\n",
        "4. Your program should check that it's a valid simplification.\n",
        "5. If its valid then you should do the substitution, let the user know and then loop back to step 3.\n",
        "6. If it's invalid then you should let the user know and then go back to step 3.\n",
        "7. At step 3 the user should be able to enter \"done\" when they are finished simplifying the program.\n",
        "\n",
        "Example:\n",
        "> Enter an expression?\n",
        "\n",
        "A+B+1\n",
        "\n",
        "> Output of the truth table.\n",
        "> Enter a simplification rule?\n",
        "\n",
        "B+1=1\n",
        "\n",
        "> Nice, your new expression is A+1\n",
        "\n",
        "etc.\n"
      ],
      "metadata": {
        "id": "-8xwl1TT8Yv9"
      }
    },
    {
      "cell_type": "code",
      "source": [
        "def swapAlgorithm():\n",
        "  pass\n",
        "  # remove \"pass\" and INSERT YOUR CODE HERE\n",
        "\n",
        "swapAlgorithm()"
      ],
      "metadata": {
        "id": "mKDzp2dkGW3N"
      },
      "execution_count": null,
      "outputs": []
    },
    {
      "cell_type": "markdown",
      "source": [
        "## Extensions\n",
        "\n",
        "How could you improve your swap algorithm? Is there some subsitiutions which are always good? Could you do those automatically?\n",
        "\n",
        "Is there any way you could solve the whole program automatically? Feel free to look online and have a think."
      ],
      "metadata": {
        "id": "krWHSDlV6fJN"
      }
    }
  ]
}